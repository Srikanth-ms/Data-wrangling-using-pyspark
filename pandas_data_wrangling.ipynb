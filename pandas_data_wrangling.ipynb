{
 "cells": [
  {
   "cell_type": "code",
   "execution_count": 1,
   "id": "3b4c5b2d",
   "metadata": {},
   "outputs": [
    {
     "name": "stdout",
     "output_type": "stream",
     "text": [
      "   id     name   age      place  salary\n",
      "0   1  shreyas  34.0      India   80000\n",
      "1   2    ankit  30.0        USA   70000\n",
      "2   3    james  24.0     France   30600\n",
      "3   4  johnson  38.0  Australia   90000\n",
      "4   5   sachin  28.0      India   50000\n",
      "5   6    smith  27.0  Australia   45000\n",
      "6   7   andrew  33.0        USA   70000\n",
      "7   7   andrew  33.0        USA   70000\n",
      "8   8  stephen   NaN       None   30000\n"
     ]
    }
   ],
   "source": [
    "import pandas as pd\n",
    "import numpy as np\n",
    "\n",
    "data = [\n",
    "    {\"id\": 1, \"name\": \"shreyas\", \"age\": 34, \"place\": \"India\", \"salary\": 80000},\n",
    "    {\"id\": 2, \"name\": \"ankit\", \"age\": 30, \"place\": \"USA\", \"salary\": 70000},\n",
    "    {\"id\": 3, \"name\": \"james\", \"age\": 24, \"place\": \"France\", \"salary\": 30600},\n",
    "    {\"id\": 4, \"name\": \"johnson\", \"age\": 38, \"place\": \"Australia\", \"salary\": 90000},\n",
    "    {\"id\": 5, \"name\": \"sachin\", \"age\": 28, \"place\": \"India\", \"salary\": 50000},\n",
    "    {\"id\": 6, \"name\": \"smith\", \"age\": 27, \"place\": \"Australia\", \"salary\": 45000},\n",
    "    {\"id\": 7, \"name\": \"andrew\", \"age\": 33, \"place\": \"USA\", \"salary\": 70000},\n",
    "    {\"id\": 7, \"name\": \"andrew\", \"age\": 33, \"place\": \"USA\", \"salary\": 70000},\n",
    "    {\"id\": 8, \"name\": \"stephen\", \"age\": None, \"place\": None, \"salary\": 30000}\n",
    "]\n",
    "\n",
    "df = pd.DataFrame(data)\n",
    "print(df)"
   ]
  },
  {
   "cell_type": "code",
   "execution_count": 2,
   "id": "a184be14",
   "metadata": {},
   "outputs": [
    {
     "name": "stdout",
     "output_type": "stream",
     "text": [
      "(9, 5)\n"
     ]
    }
   ],
   "source": [
    "# get shape of df\n",
    "print(df.shape)"
   ]
  },
  {
   "cell_type": "code",
   "execution_count": 3,
   "id": "c775f90c",
   "metadata": {},
   "outputs": [
    {
     "name": "stdout",
     "output_type": "stream",
     "text": [
      "   id     name   age      place  salary\n",
      "0   1  shreyas  34.0      India   80000\n",
      "1   2    ankit  30.0        USA   70000\n",
      "2   3    james  24.0     France   30600\n",
      "3   4  johnson  38.0  Australia   90000\n",
      "4   5   sachin  28.0      India   50000\n",
      "5   6    smith  27.0  Australia   45000\n",
      "6   7   andrew  33.0        USA   70000\n",
      "8   8  stephen   NaN       None   30000\n",
      "**************************************************\n",
      "\n",
      "Non duplicated rows...\n",
      "   id     name   age      place  salary\n",
      "0   1  shreyas  34.0      India   80000\n",
      "1   2    ankit  30.0        USA   70000\n",
      "2   3    james  24.0     France   30600\n",
      "3   4  johnson  38.0  Australia   90000\n",
      "4   5   sachin  28.0      India   50000\n",
      "5   6    smith  27.0  Australia   45000\n",
      "8   8  stephen   NaN       None   30000\n",
      "\n"
     ]
    }
   ],
   "source": [
    "# drop_duplicates()\n",
    "print(df.drop_duplicates(subset=[\"id\"], keep='first'))\n",
    "print(\"*\"*50)\n",
    "\n",
    "print()\n",
    "print(\"Non duplicated rows...\")\n",
    "print(df.drop_duplicates(subset=[\"id\"], keep=False))\n",
    "print()"
   ]
  },
  {
   "cell_type": "code",
   "execution_count": 4,
   "id": "2e2b2a26",
   "metadata": {},
   "outputs": [
    {
     "name": "stdout",
     "output_type": "stream",
     "text": [
      "Duplicated rows....\n",
      "\n",
      "   id    name   age place  salary\n",
      "6   7  andrew  33.0   USA   70000\n",
      "7   7  andrew  33.0   USA   70000\n",
      "\n",
      "   id    name   age place  salary\n",
      "7   7  andrew  33.0   USA   70000\n"
     ]
    }
   ],
   "source": [
    "#duplicated()\n",
    "print(\"Duplicated rows....\")\n",
    "print()\n",
    "\n",
    "print(df[df.duplicated(subset=[\"id\"], keep=False)])\n",
    "print()\n",
    "\n",
    "print(df[df.duplicated(subset=[\"id\"])])"
   ]
  },
  {
   "cell_type": "code",
   "execution_count": 5,
   "id": "f31153a9",
   "metadata": {},
   "outputs": [
    {
     "name": "stdout",
     "output_type": "stream",
     "text": [
      "   id     name      age                     place  salary\n",
      "0   1  shreyas     34.0         Republic of India   80000\n",
      "1   2    ankit     30.0  United States of America   70000\n",
      "2   3    james     24.0                    France   30600\n",
      "3   4  johnson     38.0                 Australia   90000\n",
      "4   5   sachin     28.0         Republic of India   50000\n",
      "5   6    smith     27.0                 Australia   45000\n",
      "6   7   andrew     33.0  United States of America   70000\n",
      "7   7   andrew     33.0  United States of America   70000\n",
      "8   8  stephen  unknown                   unknown   30000\n"
     ]
    }
   ],
   "source": [
    "# fillna() and replace()\n",
    "print(df.fillna(\"unknown\").replace(to_replace=[\"India\", \"USA\"], value=[\"Republic of India\", \"United States of America\"]))"
   ]
  },
  {
   "cell_type": "code",
   "execution_count": 6,
   "id": "caae15f8",
   "metadata": {},
   "outputs": [
    {
     "name": "stdout",
     "output_type": "stream",
     "text": [
      "   id     name   age      place  salary\n",
      "0   1  shreyas  34.0      India   80000\n",
      "1   2    ankit  30.0        USA   70000\n",
      "2   3    james  24.0     France   30600\n",
      "3   4  johnson  38.0  Australia   90000\n",
      "4   5   sachin  28.0      India   50000\n",
      "5   6    smith  27.0  Australia   45000\n",
      "6   7   andrew  33.0        USA   70000\n",
      "7   7   andrew  33.0        USA   70000\n"
     ]
    }
   ],
   "source": [
    "# dropna()\n",
    "print(df.dropna(subset=[\"age\"]))"
   ]
  },
  {
   "cell_type": "code",
   "execution_count": 7,
   "id": "26d14106",
   "metadata": {},
   "outputs": [
    {
     "name": "stdout",
     "output_type": "stream",
     "text": [
      "   id     name   place  salary\n",
      "0   1  shreyas   India   80000\n",
      "1   2    ankit     USA   70000\n",
      "2   3    james  France   30600\n",
      "\n",
      "**************************************************\n",
      "   id     name   age      place  salary\n",
      "0   1  shreyas  34.0      India   80000\n",
      "3   4  johnson  38.0  Australia   90000\n",
      "4   5   sachin  28.0      India   50000\n",
      "5   6    smith  27.0  Australia   45000\n",
      "6   7   andrew  33.0        USA   70000\n"
     ]
    }
   ],
   "source": [
    "# drop() to drop column\n",
    "print(df.drop([\"age\"], axis=1).head(3))\n",
    "\n",
    "print()\n",
    "print(\"*\"*50)\n",
    "\n",
    "print(df.drop([1, 2], axis=0).head(5))"
   ]
  },
  {
   "cell_type": "code",
   "execution_count": 8,
   "id": "d6c34908",
   "metadata": {},
   "outputs": [
    {
     "name": "stdout",
     "output_type": "stream",
     "text": [
      "   Id     Name   Age      Place  salary\n",
      "0   1  shreyas  34.0      India   80000\n",
      "1   2    ankit  30.0        USA   70000\n",
      "2   3    james  24.0     France   30600\n",
      "3   4  johnson  38.0  Australia   90000\n",
      "4   5   sachin  28.0      India   50000\n",
      "5   6    smith  27.0  Australia   45000\n",
      "6   7   andrew  33.0        USA   70000\n",
      "7   7   andrew  33.0        USA   70000\n",
      "8   8  stephen   NaN       None   30000\n",
      "\n",
      "##################################################\n",
      "       id     name   age      place  salary\n",
      "zero    1  shreyas  34.0      India   80000\n",
      "one     2    ankit  30.0        USA   70000\n",
      "two     3    james  24.0     France   30600\n",
      "three   4  johnson  38.0  Australia   90000\n",
      "four    5   sachin  28.0      India   50000\n",
      "five    6    smith  27.0  Australia   45000\n",
      "six     7   andrew  33.0        USA   70000\n",
      "seven   7   andrew  33.0        USA   70000\n",
      "eight   8  stephen   NaN       None   30000\n"
     ]
    }
   ],
   "source": [
    "# rename() to rename columns or index\n",
    "print(df.rename(columns={\"id\": \"Id\", \"name\": \"Name\", \"age\": \"Age\", \"place\": \"Place\"}))\n",
    "\n",
    "print()\n",
    "print(\"#\"*50)\n",
    "\n",
    "# rename() to rename columns or index\n",
    "renamed_index = df.rename(index={0: \"zero\", 1: \"one\", 2: \"two\", 3: \"three\", 4: \"four\", 5: \"five\", \n",
    "                                 6: \"six\", 7: \"seven\", 8: \"eight\", 9: \"nine\"})\n",
    "\n",
    "print(renamed_index)"
   ]
  },
  {
   "cell_type": "code",
   "execution_count": 9,
   "id": "2bb3195d",
   "metadata": {},
   "outputs": [
    {
     "name": "stdout",
     "output_type": "stream",
     "text": [
      "   id     name   age      place  salary\n",
      "3   4  johnson  38.0  Australia   90000\n",
      "0   1  shreyas  34.0      India   80000\n",
      "6   7   andrew  33.0        USA   70000\n",
      "7   7   andrew  33.0        USA   70000\n",
      "1   2    ankit  30.0        USA   70000\n",
      "4   5   sachin  28.0      India   50000\n",
      "5   6    smith  27.0  Australia   45000\n",
      "2   3    james  24.0     France   30600\n",
      "8   8  stephen   NaN       None   30000\n"
     ]
    }
   ],
   "source": [
    "# sort_values()\n",
    "print(df.sort_values(by=[\"age\", \"place\"], ascending=[False, True]))"
   ]
  },
  {
   "cell_type": "code",
   "execution_count": 10,
   "id": "e8278d88",
   "metadata": {},
   "outputs": [
    {
     "name": "stdout",
     "output_type": "stream",
     "text": [
      "             id       age        salary\n",
      "count  9.000000   8.00000      9.000000\n",
      "mean   4.777778  30.87500  59511.111111\n",
      "std    2.438123   4.48609  21468.607573\n",
      "min    1.000000  24.00000  30000.000000\n",
      "25%    3.000000  27.75000  45000.000000\n",
      "50%    5.000000  31.50000  70000.000000\n",
      "75%    7.000000  33.25000  70000.000000\n",
      "max    8.000000  38.00000  90000.000000\n"
     ]
    }
   ],
   "source": [
    "# describe()\n",
    "print(df.describe())"
   ]
  },
  {
   "cell_type": "code",
   "execution_count": 11,
   "id": "ff4b0a3f",
   "metadata": {},
   "outputs": [
    {
     "name": "stdout",
     "output_type": "stream",
     "text": [
      "MIN SALARY\n",
      "           id   age  salary\n",
      "place                      \n",
      "Australia   4  27.0   45000\n",
      "France      3  24.0   30600\n",
      "India       1  28.0   50000\n",
      "USA         2  30.0   70000\n",
      "##################################################\n",
      "MAX SALARY\n",
      "           salary\n",
      "place            \n",
      "Australia   90000\n",
      "France      30600\n",
      "India       80000\n",
      "USA         70000\n",
      "##################################################\n",
      "MEAN SALARY\n",
      "place\n",
      "Australia    67500.0\n",
      "France       30600.0\n",
      "India        65000.0\n",
      "USA          70000.0\n",
      "Name: salary, dtype: float64\n",
      "##################################################\n",
      "COUNT SALARY\n",
      "place\n",
      "Australia    2\n",
      "France       1\n",
      "India        2\n",
      "USA          3\n",
      "Name: age, dtype: int64\n"
     ]
    }
   ],
   "source": [
    "# groupby() and aggregation\n",
    "print(\"MIN SALARY\")\n",
    "print(df.groupby([\"place\"]).min(\"salary\"))\n",
    "print(\"#\"*50)\n",
    "\n",
    "print(\"MAX SALARY\")\n",
    "print(df.groupby([\"place\"]).aggregate({\"salary\": 'max'}))\n",
    "print(\"#\"*50)\n",
    "\n",
    "print(\"MEAN SALARY\")\n",
    "print(df.groupby([\"place\"])[\"salary\"].mean())\n",
    "print(\"#\"*50)\n",
    "\n",
    "print(\"COUNT SALARY\")\n",
    "print(df.groupby([\"place\"])[\"age\"].count())"
   ]
  },
  {
   "cell_type": "code",
   "execution_count": 12,
   "id": "a209b31d",
   "metadata": {},
   "outputs": [
    {
     "name": "stdout",
     "output_type": "stream",
     "text": [
      "   id     name   age      place  salary\n",
      "0   1  shreyas  34.0      India   80000\n",
      "1   2    ankit  30.0        USA   70000\n",
      "2   3    james  24.0     France   30600\n",
      "3   4  johnson  38.0  Australia   90000\n",
      "\n",
      "   id     name   age      place  salary\n",
      "5   6    smith  27.0  Australia   45000\n",
      "6   7   andrew  33.0        USA   70000\n",
      "7   7   andrew  33.0        USA   70000\n",
      "8   8  stephen   NaN       None   30000\n"
     ]
    }
   ],
   "source": [
    "# head()\n",
    "print(df.head(4))\n",
    "print()\n",
    "\n",
    "# tail()\n",
    "print(df.tail(4))"
   ]
  },
  {
   "cell_type": "code",
   "execution_count": 13,
   "id": "d86acae4",
   "metadata": {},
   "outputs": [
    {
     "name": "stdout",
     "output_type": "stream",
     "text": [
      "      name   age  salary\n",
      "2    james  24.0   30600\n",
      "3  johnson  38.0   90000\n",
      "4   sachin  28.0   50000\n",
      "\n",
      "**************************************************\n",
      "     id   name   age   place  salary\n",
      "one   2  ankit  30.0     USA   70000\n",
      "two   3  james  24.0  France   30600\n",
      "\n",
      "**************************************************\n",
      "       id     name   age      place  salary\n",
      "one     2    ankit  30.0        USA   70000\n",
      "two     3    james  24.0     France   30600\n",
      "three   4  johnson  38.0  Australia   90000\n"
     ]
    }
   ],
   "source": [
    "# loc[]\n",
    "print(df.loc[2:5, [\"name\", \"age\", \"salary\"]].head(3))\n",
    "\n",
    "print()\n",
    "print(\"*\"*50)\n",
    "print(renamed_index.loc[[\"one\", \"two\"], :])\n",
    "\n",
    "print()\n",
    "print(\"*\"*50)\n",
    "print(renamed_index.loc[[\"one\", \"two\", \"three\"]])"
   ]
  },
  {
   "cell_type": "code",
   "execution_count": 14,
   "id": "f3069d27",
   "metadata": {},
   "outputs": [
    {
     "name": "stdout",
     "output_type": "stream",
     "text": [
      "      id     name   age   place  salary\n",
      "zero   1  shreyas  34.0   India   80000\n",
      "one    2    ankit  30.0     USA   70000\n",
      "two    3    james  24.0  France   30600\n",
      "\n",
      "**************************************************\n",
      "       id     name   age\n",
      "zero    1  shreyas  34.0\n",
      "one     2    ankit  30.0\n",
      "two     3    james  24.0\n",
      "three   4  johnson  38.0\n"
     ]
    }
   ],
   "source": [
    "# iloc[]\n",
    "print(renamed_index.iloc[0:3, :].head(3))\n",
    "\n",
    "print()\n",
    "print(\"*\"*50)\n",
    "\n",
    "print(renamed_index.iloc[:, 0:3].head(4))"
   ]
  },
  {
   "cell_type": "code",
   "execution_count": 15,
   "id": "7e85f097",
   "metadata": {},
   "outputs": [
    {
     "name": "stdout",
     "output_type": "stream",
     "text": [
      "   id     name   age      place  salary\n",
      "0   1  shreyas  34.0      India   80000\n",
      "1   2    ankit  30.0        USA   70000\n",
      "2   3    james  24.0     France   30600\n",
      "3   4  johnson  38.0  Australia   90000\n",
      "4   5   sachin  28.0      India   50000\n",
      "5   6    smith  27.0  Australia   45000\n",
      "6   7   andrew  33.0        USA   70000\n",
      "7   7   andrew  33.0        USA   70000\n",
      "8   8  stephen   NaN       None   30000\n",
      "**************************************************\n",
      "   id   profession\n",
      "0   1       doctor\n",
      "1   2  Buisnessman\n",
      "2   3     Engineer\n",
      "3   4    scientist\n",
      "4   5       doctor\n",
      "5  10      Manager\n",
      "6  11   Accountant\n"
     ]
    }
   ],
   "source": [
    "new_data = [\n",
    "    {\"id\": 1, \"profession\": \"doctor\"},\n",
    "    {\"id\": 2, \"profession\": \"Buisnessman\"},\n",
    "    {\"id\": 3, \"profession\": \"Engineer\"},\n",
    "    {\"id\": 4, \"profession\": \"scientist\"},\n",
    "    {\"id\": 5, \"profession\": \"doctor\"},\n",
    "    {\"id\": 10, \"profession\": \"Manager\"},\n",
    "    {\"id\": 11, \"profession\": \"Accountant\"},\n",
    "]\n",
    "\n",
    "df1= df\n",
    "print(df1)\n",
    "print(\"*\"*50)\n",
    "df2 = pd.DataFrame(new_data)\n",
    "print(df2)"
   ]
  },
  {
   "cell_type": "code",
   "execution_count": 16,
   "id": "d0428db3",
   "metadata": {},
   "outputs": [
    {
     "name": "stdout",
     "output_type": "stream",
     "text": [
      "Inner Join\n",
      "   id_1     name   age      place  salary  id_2   profession\n",
      "0     1  shreyas  34.0      India   80000     1       doctor\n",
      "1     2    ankit  30.0        USA   70000     2  Buisnessman\n",
      "2     3    james  24.0     France   30600     3     Engineer\n",
      "3     4  johnson  38.0  Australia   90000     4    scientist\n",
      "4     5   sachin  28.0      India   50000     5       doctor\n",
      "5     6    smith  27.0  Australia   45000    10      Manager\n",
      "6     7   andrew  33.0        USA   70000    11   Accountant\n",
      "\n",
      "**************************************************\n",
      "Left Join\n",
      "   id_1     name   age      place  salary  id_2   profession\n",
      "0     1  shreyas  34.0      India   80000   1.0       doctor\n",
      "1     2    ankit  30.0        USA   70000   2.0  Buisnessman\n",
      "2     3    james  24.0     France   30600   3.0     Engineer\n",
      "3     4  johnson  38.0  Australia   90000   4.0    scientist\n",
      "4     5   sachin  28.0      India   50000   5.0       doctor\n",
      "5     6    smith  27.0  Australia   45000  10.0      Manager\n",
      "6     7   andrew  33.0        USA   70000  11.0   Accountant\n",
      "7     7   andrew  33.0        USA   70000   NaN          NaN\n",
      "8     8  stephen   NaN       None   30000   NaN          NaN\n"
     ]
    }
   ],
   "source": [
    "# join()\n",
    "print(\"Inner Join\")\n",
    "print(df1.join(df2, lsuffix=\"_1\", rsuffix=\"_2\", sort=True, how=\"inner\"))\n",
    "\n",
    "print()\n",
    "print(\"*\"*50)\n",
    "\n",
    "print(\"Left Join\")\n",
    "print(df1.join(df2, lsuffix=\"_1\", rsuffix=\"_2\", sort=True, how=\"left\"))"
   ]
  },
  {
   "cell_type": "code",
   "execution_count": 17,
   "id": "1a03a709",
   "metadata": {},
   "outputs": [
    {
     "name": "stdout",
     "output_type": "stream",
     "text": [
      "Right Join\n",
      "   id_1     name   age      place  salary  id_2   profession\n",
      "0     1  shreyas  34.0      India   80000     1       doctor\n",
      "1     2    ankit  30.0        USA   70000     2  Buisnessman\n",
      "2     3    james  24.0     France   30600     3     Engineer\n",
      "3     4  johnson  38.0  Australia   90000     4    scientist\n",
      "4     5   sachin  28.0      India   50000     5       doctor\n",
      "5     6    smith  27.0  Australia   45000    10      Manager\n",
      "6     7   andrew  33.0        USA   70000    11   Accountant\n",
      "\n",
      "**************************************************\n",
      "Outer Join\n",
      "   id_1     name   age      place  salary  id_2   profession\n",
      "0     1  shreyas  34.0      India   80000   1.0       doctor\n",
      "1     2    ankit  30.0        USA   70000   2.0  Buisnessman\n",
      "2     3    james  24.0     France   30600   3.0     Engineer\n",
      "3     4  johnson  38.0  Australia   90000   4.0    scientist\n",
      "4     5   sachin  28.0      India   50000   5.0       doctor\n",
      "5     6    smith  27.0  Australia   45000  10.0      Manager\n",
      "6     7   andrew  33.0        USA   70000  11.0   Accountant\n",
      "7     7   andrew  33.0        USA   70000   NaN          NaN\n",
      "8     8  stephen   NaN       None   30000   NaN          NaN\n"
     ]
    }
   ],
   "source": [
    "print(\"Right Join\")\n",
    "print(df1.join(df2, lsuffix=\"_1\", rsuffix=\"_2\", sort=True, how=\"right\"))\n",
    "\n",
    "print()\n",
    "print(\"*\"*50)\n",
    "\n",
    "print(\"Outer Join\")\n",
    "print(df1.join(df2, lsuffix=\"_1\", rsuffix=\"_2\", sort=True, how=\"outer\"))\n"
   ]
  },
  {
   "cell_type": "code",
   "execution_count": 18,
   "id": "abca92f3",
   "metadata": {},
   "outputs": [
    {
     "name": "stdout",
     "output_type": "stream",
     "text": [
      "Inner Join\n",
      "   id     name   age      place  salary   profession\n",
      "0   1  shreyas  34.0      India   80000       doctor\n",
      "1   2    ankit  30.0        USA   70000  Buisnessman\n",
      "2   3    james  24.0     France   30600     Engineer\n",
      "3   4  johnson  38.0  Australia   90000    scientist\n",
      "4   5   sachin  28.0      India   50000       doctor\n",
      "\n",
      "**************************************************\n",
      "Left Join\n",
      "   id     name   age      place  salary   profession\n",
      "0   1  shreyas  34.0      India   80000       doctor\n",
      "1   2    ankit  30.0        USA   70000  Buisnessman\n",
      "2   3    james  24.0     France   30600     Engineer\n",
      "3   4  johnson  38.0  Australia   90000    scientist\n",
      "4   5   sachin  28.0      India   50000       doctor\n",
      "5   6    smith  27.0  Australia   45000          NaN\n",
      "6   7   andrew  33.0        USA   70000          NaN\n",
      "7   7   andrew  33.0        USA   70000          NaN\n",
      "8   8  stephen   NaN       None   30000          NaN\n"
     ]
    }
   ],
   "source": [
    "# merge()\n",
    "print(\"Inner Join\")\n",
    "print(pd.merge(df1, df2, on=\"id\", how=\"inner\"))\n",
    "\n",
    "print()\n",
    "print(\"*\"*50)\n",
    "\n",
    "print(\"Left Join\")\n",
    "print(pd.merge(df1, df2, on=\"id\", how=\"left\"))"
   ]
  },
  {
   "cell_type": "code",
   "execution_count": 19,
   "id": "ead5b415",
   "metadata": {},
   "outputs": [
    {
     "name": "stdout",
     "output_type": "stream",
     "text": [
      "Right Join\n",
      "   id     name   age      place   salary   profession\n",
      "0   1  shreyas  34.0      India  80000.0       doctor\n",
      "1   2    ankit  30.0        USA  70000.0  Buisnessman\n",
      "2   3    james  24.0     France  30600.0     Engineer\n",
      "3   4  johnson  38.0  Australia  90000.0    scientist\n",
      "4   5   sachin  28.0      India  50000.0       doctor\n",
      "5  10      NaN   NaN        NaN      NaN      Manager\n",
      "6  11      NaN   NaN        NaN      NaN   Accountant\n",
      "\n",
      "**************************************************\n",
      "Outer Join\n",
      "    id     name   age      place   salary   profession\n",
      "0    1  shreyas  34.0      India  80000.0       doctor\n",
      "1    2    ankit  30.0        USA  70000.0  Buisnessman\n",
      "2    3    james  24.0     France  30600.0     Engineer\n",
      "3    4  johnson  38.0  Australia  90000.0    scientist\n",
      "4    5   sachin  28.0      India  50000.0       doctor\n",
      "5    6    smith  27.0  Australia  45000.0          NaN\n",
      "6    7   andrew  33.0        USA  70000.0          NaN\n",
      "7    7   andrew  33.0        USA  70000.0          NaN\n",
      "8    8  stephen   NaN       None  30000.0          NaN\n",
      "9   10      NaN   NaN        NaN      NaN      Manager\n",
      "10  11      NaN   NaN        NaN      NaN   Accountant\n"
     ]
    }
   ],
   "source": [
    "print(\"Right Join\")\n",
    "print(pd.merge(df1, df2, on=\"id\", how=\"right\"))\n",
    "\n",
    "print()\n",
    "print(\"*\"*50)\n",
    "\n",
    "print(\"Outer Join\")\n",
    "print(pd.merge(df1, df2, on=\"id\", how=\"outer\"))"
   ]
  },
  {
   "cell_type": "code",
   "execution_count": 20,
   "id": "85b2e17c",
   "metadata": {},
   "outputs": [],
   "source": [
    "add_data = [\n",
    "    {\"id\": 10, \"name\": \"Yashas\", \"age\": 24, \"place\": \"India\", \"salary\": 30000},\n",
    "    {\"id\": 11, \"name\": \"Tejas\", \"age\": 28, \"place\": \"Canada\", \"salary\": 60000},\n",
    "]\n",
    "\n",
    "df3 = pd.DataFrame(add_data)"
   ]
  },
  {
   "cell_type": "code",
   "execution_count": 21,
   "id": "8b0b398a",
   "metadata": {},
   "outputs": [
    {
     "name": "stdout",
     "output_type": "stream",
     "text": [
      "   id     name   age      place  salary\n",
      "0   1  shreyas  34.0      India   80000\n",
      "1   2    ankit  30.0        USA   70000\n",
      "2   3    james  24.0     France   30600\n",
      "3   4  johnson  38.0  Australia   90000\n",
      "4   5   sachin  28.0      India   50000\n",
      "5   6    smith  27.0  Australia   45000\n",
      "6   7   andrew  33.0        USA   70000\n",
      "7   7   andrew  33.0        USA   70000\n",
      "8   8  stephen   NaN       None   30000\n",
      "0  10   Yashas  24.0      India   30000\n",
      "1  11    Tejas  28.0     Canada   60000\n"
     ]
    }
   ],
   "source": [
    "# concat()\n",
    "print(pd.concat([df1, df3]))"
   ]
  },
  {
   "cell_type": "code",
   "execution_count": 22,
   "id": "4e4dc8fe",
   "metadata": {},
   "outputs": [
    {
     "name": "stdout",
     "output_type": "stream",
     "text": [
      "0    80000\n",
      "1    70000\n",
      "2    30600\n",
      "3    90000\n",
      "4    50000\n",
      "5    45000\n",
      "6    70000\n",
      "7    70000\n",
      "8    30000\n",
      "Name: salary, dtype: int64\n",
      "**************************************************\n",
      "\n",
      "0    80000.0\n",
      "1    70000.0\n",
      "2    30600.0\n",
      "3    90000.0\n",
      "4    50000.0\n",
      "5    45000.0\n",
      "6    70000.0\n",
      "7    70000.0\n",
      "8    30000.0\n",
      "Name: salary, dtype: float64\n"
     ]
    }
   ],
   "source": [
    "print(df1[\"salary\"])\n",
    "print(\"*\"*50)\n",
    "print()\n",
    "\n",
    "# astype()rea\n",
    "print(df1[\"salary\"].astype(float))"
   ]
  },
  {
   "cell_type": "code",
   "execution_count": 23,
   "id": "6ecc7772",
   "metadata": {},
   "outputs": [
    {
     "name": "stdout",
     "output_type": "stream",
     "text": [
      "   id    name   age  place  salary\n",
      "1   2   ankit  30.0    USA   70000\n",
      "4   5  sachin  28.0  India   50000\n",
      "\n",
      "**************************************************\n",
      "   id     name   age  place  salary\n",
      "0   1  shreyas  34.0  India   80000\n",
      "1   2    ankit  30.0    USA   70000\n",
      "4   5   sachin  28.0  India   50000\n",
      "6   7   andrew  33.0    USA   70000\n",
      "7   7   andrew  33.0    USA   70000\n"
     ]
    }
   ],
   "source": [
    "# filtering\n",
    "print(df[(df[\"age\"] <=30) & (df[\"salary\"] >= 50000)])\n",
    "\n",
    "print()\n",
    "print(\"*\"*50)\n",
    "\n",
    "print(df[df[\"place\"].isin([\"India\", \"USA\"])])"
   ]
  },
  {
   "cell_type": "code",
   "execution_count": 24,
   "id": "e1902456",
   "metadata": {},
   "outputs": [
    {
     "name": "stdout",
     "output_type": "stream",
     "text": [
      "Original df ...\n",
      "   id     name   age      place  salary\n",
      "0   1  shreyas  34.0      India   80000\n",
      "1   2    ankit  30.0        USA   70000\n",
      "2   3    james  24.0     France   30600\n",
      "3   4  johnson  38.0  Australia   90000\n",
      "4   5   sachin  28.0      India   50000\n",
      "5   6    smith  27.0  Australia   45000\n",
      "6   7   andrew  33.0        USA   70000\n",
      "7   7   andrew  33.0        USA   70000\n",
      "8   8  stephen   NaN       None   30000\n",
      "**************************************************\n",
      "   id     name  age place  salary\n",
      "8   8  stephen  NaN  None   30000\n",
      "**************************************************\n",
      "   id     name   age      place  salary\n",
      "0   1  shreyas  34.0      India   80000\n",
      "1   2    ankit  30.0        USA   70000\n",
      "2   3    james  24.0     France   30600\n",
      "3   4  johnson  38.0  Australia   90000\n",
      "4   5   sachin  28.0      India   50000\n",
      "5   6    smith  27.0  Australia   45000\n",
      "6   7   andrew  33.0        USA   70000\n",
      "7   7   andrew  33.0        USA   70000\n"
     ]
    }
   ],
   "source": [
    "# notna()\n",
    "print(\"Original df ...\")\n",
    "print(df1)\n",
    "\n",
    "print(\"*\"*50)\n",
    "print(df1[~df1[\"age\"].notna()])\n",
    "\n",
    "print(\"*\"*50)\n",
    "print(df1[df1[\"age\"].notna()])"
   ]
  },
  {
   "cell_type": "code",
   "execution_count": 25,
   "id": "3ba3de4e",
   "metadata": {},
   "outputs": [
    {
     "name": "stdout",
     "output_type": "stream",
     "text": [
      "**************************************************\n",
      "   id     name  age place  salary\n",
      "8   8  stephen  NaN  None   30000\n",
      "**************************************************\n",
      "   id     name   age      place  salary\n",
      "0   1  shreyas  34.0      India   80000\n",
      "1   2    ankit  30.0        USA   70000\n",
      "2   3    james  24.0     France   30600\n",
      "3   4  johnson  38.0  Australia   90000\n",
      "4   5   sachin  28.0      India   50000\n",
      "5   6    smith  27.0  Australia   45000\n",
      "6   7   andrew  33.0        USA   70000\n",
      "7   7   andrew  33.0        USA   70000\n"
     ]
    }
   ],
   "source": [
    "# notnull()\n",
    "print(\"*\"*50)\n",
    "print(df1[~df1[\"age\"].notnull()])\n",
    "\n",
    "print(\"*\"*50)\n",
    "print(df1[df1[\"age\"].notnull()])"
   ]
  },
  {
   "cell_type": "code",
   "execution_count": 26,
   "id": "6342e948",
   "metadata": {},
   "outputs": [
    {
     "name": "stdout",
     "output_type": "stream",
     "text": [
      "**************************************************\n",
      "   id     name  age place  salary\n",
      "8   8  stephen  NaN  None   30000\n",
      "**************************************************\n",
      "   id     name   age      place  salary\n",
      "0   1  shreyas  34.0      India   80000\n",
      "1   2    ankit  30.0        USA   70000\n",
      "2   3    james  24.0     France   30600\n",
      "3   4  johnson  38.0  Australia   90000\n",
      "4   5   sachin  28.0      India   50000\n",
      "5   6    smith  27.0  Australia   45000\n",
      "6   7   andrew  33.0        USA   70000\n",
      "7   7   andrew  33.0        USA   70000\n"
     ]
    }
   ],
   "source": [
    "# isnull()\n",
    "print(\"*\"*50)\n",
    "print(df1[df1[\"age\"].isnull()])\n",
    "\n",
    "print(\"*\"*50)\n",
    "print(df1[~df1[\"age\"].isnull()])"
   ]
  },
  {
   "cell_type": "code",
   "execution_count": 27,
   "id": "60167640",
   "metadata": {},
   "outputs": [
    {
     "name": "stdout",
     "output_type": "stream",
     "text": [
      "Original dataframe ..\n",
      "      id     name   age   place  salary\n",
      "zero   1  shreyas  34.0   India   80000\n",
      "one    2    ankit  30.0     USA   70000\n",
      "two    3    james  24.0  France   30600\n",
      "\n",
      "**************************************************\n",
      "  index  id     name   age   place  salary\n",
      "0  zero   1  shreyas  34.0   India   80000\n",
      "1   one   2    ankit  30.0     USA   70000\n",
      "2   two   3    james  24.0  France   30600\n",
      "\n",
      "**************************************************\n",
      "   id     name   age   place  salary\n",
      "0   1  shreyas  34.0   India   80000\n",
      "1   2    ankit  30.0     USA   70000\n",
      "2   3    james  24.0  France   30600\n"
     ]
    }
   ],
   "source": [
    "# reset_index()\n",
    "print(\"Original dataframe ..\")\n",
    "print(renamed_index.head(3))\n",
    "\n",
    "print()\n",
    "print(\"*\"*50)\n",
    "print(renamed_index.reset_index().head(3))\n",
    "\n",
    "print()\n",
    "print(\"*\"*50)\n",
    "print(renamed_index.reset_index(drop=True).head(3))"
   ]
  },
  {
   "cell_type": "code",
   "execution_count": 28,
   "id": "53088320",
   "metadata": {},
   "outputs": [
    {
     "name": "stdout",
     "output_type": "stream",
     "text": [
      "Index(['zero', 'one', 'two', 'three', 'four', 'five', 'six', 'seven', 'eight'], dtype='object')\n",
      "**************************************************\n",
      "Index(['id', 'name', 'age', 'place', 'salary'], dtype='object')\n"
     ]
    }
   ],
   "source": [
    "# list index and columns for renamed_index dataframe\n",
    "print(renamed_index.index)\n",
    "print(\"*\"*50)\n",
    "print(renamed_index.columns)"
   ]
  },
  {
   "cell_type": "code",
   "execution_count": 29,
   "id": "14fc08cf",
   "metadata": {},
   "outputs": [
    {
     "name": "stdout",
     "output_type": "stream",
     "text": [
      "Original df\n",
      "   id     name   age      place  salary\n",
      "0   1  shreyas  34.0      India   80000\n",
      "1   2    ankit  30.0        USA   70000\n",
      "2   3    james  24.0     France   30600\n",
      "3   4  johnson  38.0  Australia   90000\n",
      "##################################################\n",
      "   id     name   age      place  salary\n",
      "0   1  shreyas  34.0      India   80000\n",
      "2   2    ankit  30.0        USA   70000\n",
      "4   3    james  24.0     France   30600\n",
      "6   4  johnson  38.0  Australia   90000\n",
      "**************************************************\n",
      "         id     name   age      place  salary\n",
      "name                                         \n",
      "shreyas   1  shreyas  34.0      India   80000\n",
      "ankit     2    ankit  30.0        USA   70000\n",
      "james     3    james  24.0     France   30600\n",
      "johnson   4  johnson  38.0  Australia   90000\n",
      "**************************************************\n",
      "       id     name   age      place  salary\n",
      "zero    1  shreyas  34.0      India   80000\n",
      "one     2    ankit  30.0        USA   70000\n",
      "two     3    james  24.0     France   30600\n",
      "three   4  johnson  38.0  Australia   90000\n"
     ]
    }
   ],
   "source": [
    "# set_index()\n",
    "print(\"Original df\")\n",
    "print(df1.head(4))\n",
    "\n",
    "print(\"#\"*50)\n",
    "print(df1.set_index([df1.index*2]).head(4))\n",
    "\n",
    "print(\"*\"*50)\n",
    "print(df1.set_index([df1['name']]).head(4))\n",
    "\n",
    "print(\"*\"*50)\n",
    "print(df1.set_index([renamed_index.index], drop=True).head(4))"
   ]
  },
  {
   "cell_type": "code",
   "execution_count": 30,
   "id": "34e3bb7e",
   "metadata": {},
   "outputs": [
    {
     "name": "stdout",
     "output_type": "stream",
     "text": [
      "Original df\n",
      "\n",
      "   id     name   age      place  salary\n",
      "0   1  shreyas  34.0      India   80000\n",
      "1   2    ankit  30.0        USA   70000\n",
      "2   3    james  24.0     France   30600\n",
      "3   4  johnson  38.0  Australia   90000\n",
      "4   5   sachin  28.0      India   50000\n",
      "5   6    smith  27.0  Australia   45000\n",
      "6   7   andrew  33.0        USA   70000\n",
      "7   7   andrew  33.0        USA   70000\n",
      "8   8  stephen   NaN       None   30000\n",
      "##################################################\n",
      "   id     name   age      place  salary   Seniority\n",
      "0   1  shreyas  34.0      India   80000  Non senior\n",
      "1   2    ankit  30.0        USA   70000  Non senior\n",
      "2   3    james  24.0     France   30600  Non senior\n",
      "3   4  johnson  38.0  Australia   90000      Senior\n",
      "4   5   sachin  28.0      India   50000  Non senior\n",
      "5   6    smith  27.0  Australia   45000  Non senior\n",
      "6   7   andrew  33.0        USA   70000  Non senior\n",
      "7   7   andrew  33.0        USA   70000  Non senior\n",
      "8   8  stephen   NaN       None   30000  Non senior\n"
     ]
    }
   ],
   "source": [
    "# apply() and map()\n",
    "print(\"Original df\\n\")\n",
    "print(df1)\n",
    "\n",
    "print(\"#\"*50)\n",
    "\n",
    "df1['Seniority'] = df1[\"age\"].apply(lambda x: 'Senior' if x> 35 else 'Non senior')\n",
    "print(df1)\n"
   ]
  },
  {
   "cell_type": "code",
   "execution_count": 31,
   "id": "38e53235",
   "metadata": {},
   "outputs": [
    {
     "name": "stdout",
     "output_type": "stream",
     "text": [
      "   id     name   age      place  salary   Seniority\n",
      "0   1  shreyas  34.0      India   80000  Non senior\n",
      "1   2    ankit  30.0        USA   70000  Non senior\n",
      "2   3    james  24.0     France   30600  Non senior\n",
      "3   4  johnson  38.0  Australia   90000      Senior\n",
      "4   5   sachin  28.0      India   50000  Non senior\n",
      "5   6    smith  27.0  Australia   45000  Non senior\n",
      "6   7   andrew  33.0        USA   70000  Non senior\n",
      "7   7   andrew  33.0        USA   70000  Non senior\n",
      "8   8  stephen   NaN       None   30000  Non senior\n",
      "\n",
      "df.at supports label based index and column selection\n",
      "\n",
      "shreyas\n",
      "\n",
      "df.iat supports position based index and column selection\n",
      "\n",
      "34.0\n"
     ]
    }
   ],
   "source": [
    "print(f\"{df}\\n\")\n",
    "\n",
    "print(\"df.at supports label based index and column selection\\n\")\n",
    "print(f\"{df.at[0, 'name']}\\n\")\n",
    "\n",
    "print(\"df.iat supports position based index and column selection\\n\")\n",
    "print(df.iat[0, 2])"
   ]
  },
  {
   "cell_type": "code",
   "execution_count": 32,
   "id": "ca1e961c",
   "metadata": {},
   "outputs": [
    {
     "name": "stdout",
     "output_type": "stream",
     "text": [
      "shreyas, 34.0\n",
      "ankit, 30.0\n",
      "james, 24.0\n",
      "johnson, 38.0\n",
      "sachin, 28.0\n",
      "smith, 27.0\n",
      "andrew, 33.0\n",
      "andrew, 33.0\n",
      "stephen, nan\n",
      "\n",
      "shreyas, 34.0\n",
      "ankit, 30.0\n",
      "james, 24.0\n",
      "johnson, 38.0\n",
      "sachin, 28.0\n",
      "smith, 27.0\n",
      "andrew, 33.0\n",
      "andrew, 33.0\n",
      "stephen, nan\n"
     ]
    }
   ],
   "source": [
    "# iterrows(), itertuples()\n",
    "\n",
    "for index, row in df.iterrows():\n",
    "    print(f\"{row['name']}, {row['age']}\")\n",
    "\n",
    "print()\n",
    "\n",
    "for row in df.itertuples(index=True, name='Pandas'):\n",
    "    print(f\"{getattr(row, 'name')}, {getattr(row, 'age')}\")"
   ]
  },
  {
   "cell_type": "code",
   "execution_count": 34,
   "id": "12db6c76",
   "metadata": {},
   "outputs": [
    {
     "name": "stdout",
     "output_type": "stream",
     "text": [
      "   id    name   age  place  salary   Seniority\n",
      "1   2   ankit  30.0    USA   70000  Non senior\n",
      "4   5  sachin  28.0  India   50000  Non senior\n",
      "6   7  andrew  33.0    USA   70000  Non senior\n",
      "7   7  andrew  33.0    USA   70000  Non senior\n"
     ]
    }
   ],
   "source": [
    "# apply filter conditions\n",
    "print(df1[(df1[\"age\"] >= 28) & (df1[\"salary\"] < 80000)])"
   ]
  },
  {
   "cell_type": "code",
   "execution_count": null,
   "id": "c5519cf3",
   "metadata": {},
   "outputs": [],
   "source": []
  }
 ],
 "metadata": {
  "kernelspec": {
   "display_name": "Python 3 (ipykernel)",
   "language": "python",
   "name": "python3"
  },
  "language_info": {
   "codemirror_mode": {
    "name": "ipython",
    "version": 3
   },
   "file_extension": ".py",
   "mimetype": "text/x-python",
   "name": "python",
   "nbconvert_exporter": "python",
   "pygments_lexer": "ipython3",
   "version": "3.11.3"
  }
 },
 "nbformat": 4,
 "nbformat_minor": 5
}
